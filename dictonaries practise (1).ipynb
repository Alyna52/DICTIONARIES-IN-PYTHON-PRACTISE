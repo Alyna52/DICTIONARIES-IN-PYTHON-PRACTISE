{
 "cells": [
  {
   "cell_type": "code",
   "execution_count": 23,
   "id": "9509cce2-9587-4c55-8e05-e9d1ecb9766d",
   "metadata": {},
   "outputs": [
    {
     "name": "stdout",
     "output_type": "stream",
     "text": [
      "name Alyna\n",
      "age 19\n",
      "city Lahore\n",
      "hobbies ['reading', 'baking', 'drawing']\n"
     ]
    }
   ],
   "source": [
    "#ALYNA AYAZ \n",
    "#ROLL NUMBER : FA24-BBD-011\n",
    "#SECTION : A\n",
    "\n",
    "\n",
    "#PART A\n",
    "information = {'name' : 'Alyna' , 'age': 19 , 'city' : 'Lahore' , 'hobbies' : ['reading', 'baking' , 'drawing']}\n",
    "for key, value in information.items():\n",
    "    print(key, value)"
   ]
  },
  {
   "cell_type": "code",
   "execution_count": 19,
   "id": "dd62d4c3-8d2f-4451-8d0c-8b6f3e797ab8",
   "metadata": {},
   "outputs": [
    {
     "name": "stdout",
     "output_type": "stream",
     "text": [
      "{'Hello': 1, 'guys,': 1, 'how': 2, 'are': 1, 'you': 1, 'and': 1, 'is': 1, 'the': 1, 'weather': 1, 'in': 1, 'lahore?': 1}\n"
     ]
    }
   ],
   "source": [
    "#PART B \n",
    "\n",
    "text = \"Hello guys, how are you and how is the weather in lahore?\"\n",
    "words = text.split()\n",
    "word_count = {}\n",
    "for word in words:\n",
    "    # If the word is already in the dictionary, increment its count\n",
    "    if word in word_count:\n",
    "        word_count[word] += 1\n",
    "    # If the word is not in the dictionary, add it with a count of 1\n",
    "    else:\n",
    "        word_count[word] = 1\n",
    "\n",
    "# Print the word frequencies\n",
    "print(word_count)\n",
    "\n"
   ]
  },
  {
   "cell_type": "code",
   "execution_count": 27,
   "id": "c1aceca5-2947-4873-8cf3-cd69ad0763ae",
   "metadata": {},
   "outputs": [
    {
     "name": "stdout",
     "output_type": "stream",
     "text": [
      "Initial Inventory:\n",
      "Apples: 12\n",
      "Bananas: 6\n",
      "\n",
      "Updated Inventory:\n",
      "Apples: 16\n",
      "Bananas: 7\n"
     ]
    }
   ],
   "source": [
    "#PART C\n",
    "\n",
    "inventory = {'Apples' : 12,\n",
    "             'Bananas' : 6}\n",
    "\n",
    "print(\"Initial Inventory:\")\n",
    "for item, quantity in inventory.items():\n",
    "    print(f\"{item}: {quantity}\")\n",
    "inventory[\"Apples\"] += 4\n",
    "inventory[\"Bananas\"] += 1\n",
    "\n",
    "print(\"\\nUpdated Inventory:\")\n",
    "for item, quantity in inventory.items():\n",
    "    print(f\"{item}: {quantity}\")\n",
    "\n",
    "\n"
   ]
  },
  {
   "cell_type": "code",
   "execution_count": 35,
   "id": "79b1f480-90d2-411b-b008-42f62c053431",
   "metadata": {},
   "outputs": [
    {
     "name": "stdout",
     "output_type": "stream",
     "text": [
      "The most popular category is 'Fruits' with 4 orders.\n"
     ]
    }
   ],
   "source": [
    "#part d\n",
    "\n",
    "orders = [\"Fruits\", \"Fruits\", \"Vegetables\", \"Fruits\", \"Vegetables\", \"Dairy\", \"Dairy\", \"Fruits\"]\n",
    "\n",
    "category_counts = {}\n",
    "for category in orders:\n",
    "    if category in category_counts:\n",
    "        category_counts[category] += 1\n",
    "    else:\n",
    "        category_counts[category] = 1\n",
    "\n",
    "# Find the most popular category\n",
    "most_popular = max(category_counts, key=category_counts.get)\n",
    "print(f\"The most popular category is '{most_popular}' with {category_counts[most_popular]} orders.\")"
   ]
  },
  {
   "cell_type": "code",
   "execution_count": 37,
   "id": "5daaf4f2-0a2a-4756-8943-9e144ea1cd64",
   "metadata": {},
   "outputs": [
    {
     "name": "stdout",
     "output_type": "stream",
     "text": [
      "86.0\n"
     ]
    }
   ],
   "source": [
    "#part e \n",
    "\n",
    "grades = {'alyna' : 88 , 'rabia' : 90 , 'mariam' : 80}\n",
    "sum_of_grades = sum(grades.values())\n",
    "num_of_students = len(grades)\n",
    "average = sum_of_grades/num_of_students \n",
    "\n",
    "print(average)"
   ]
  },
  {
   "cell_type": "code",
   "execution_count": 43,
   "id": "6c089eae-7f57-4fe7-9d4f-f3e206aa5fd4",
   "metadata": {},
   "outputs": [
    {
     "name": "stdout",
     "output_type": "stream",
     "text": [
      "Total Inventory Value: 57.0\n",
      "Low stock: Oranges\n"
     ]
    }
   ],
   "source": [
    "#part f\n",
    "\n",
    "inventory = {\n",
    "    \"Apples\": {\"quantity\": 16, \"price\": 2.0},\n",
    "    \"Bananas\": {\"quantity\": 5, \"price\": 1.5},\n",
    "}\n",
    "\n",
    "def add_product(name, quantity, price):\n",
    "    inventory[name] = {\"quantity\": quantity, \"price\": price}\n",
    "\n",
    "def update_quantity(name, quantity):\n",
    "    if name in inventory:\n",
    "        inventory[name][\"quantity\"] += quantity\n",
    "\n",
    "def total_value():\n",
    "    total = 0\n",
    "    for product in inventory:\n",
    "        total += inventory[product][\"quantity\"] * inventory[product][\"price\"]\n",
    "    return total\n",
    "\n",
    "def low_stock():\n",
    "    for product, info in inventory.items():\n",
    "        if info[\"quantity\"] < 5:\n",
    "            print(f\"Low stock: {product}\")\n",
    "            \n",
    "add_product(\"Oranges\", 3, 2.5) \n",
    "update_quantity(\"Apples\", 5)    \n",
    "print(\"Total Inventory Value:\", total_value()) \n",
    "low_stock()  "
   ]
  },
  {
   "cell_type": "code",
   "execution_count": 45,
   "id": "bd079721-b983-49f8-b0ee-20e6106bde96",
   "metadata": {},
   "outputs": [
    {
     "name": "stdout",
     "output_type": "stream",
     "text": [
      "\n",
      "1. Average Grade for Each Student\n",
      "2. Find Highest and Lowest Grades in a Subject\n",
      "3. Sort Students by Average Grade\n",
      "4. Exit\n"
     ]
    },
    {
     "name": "stdin",
     "output_type": "stream",
     "text": [
      "Choose an option (1-4):  3\n"
     ]
    },
    {
     "name": "stdout",
     "output_type": "stream",
     "text": [
      "Students sorted by average grade:\n",
      "sara: Average Grade = 78.33\n",
      "alyna: Average Grade = 74.33\n",
      "zara: Average Grade = 63.00\n",
      "\n",
      "1. Average Grade for Each Student\n",
      "2. Find Highest and Lowest Grades in a Subject\n",
      "3. Sort Students by Average Grade\n",
      "4. Exit\n"
     ]
    },
    {
     "name": "stdin",
     "output_type": "stream",
     "text": [
      "Choose an option (1-4):  4\n"
     ]
    }
   ],
   "source": [
    "\n",
    "\n",
    "students = {\n",
    "    \"alyna\": {\"math\": 75, \"science\": 60, \"english\": 88},\n",
    "    \"sara\": {\"math\": 78, \"science\": 85, \"english\": 72},\n",
    "    \"zara\": {\"math\": 44, \"science\": 64, \"english\": 81},\n",
    "}\n",
    "\n",
    "\n",
    "def average_grade(grades):\n",
    "    return sum(grades.values()) / len(grades)\n",
    "\n",
    "def subject_grades(subject):\n",
    "    highest = None\n",
    "    lowest = None\n",
    "    for name, grades in students.items():\n",
    "        grade = grades[subject]\n",
    "        if highest is None or grade > highest[1]:\n",
    "            highest = (name, grade)\n",
    "        if lowest is None or grade < lowest[1]:\n",
    "            lowest = (name, grade)\n",
    "    return highest, lowest\n",
    "\n",
    "\n",
    "def sorted_by_average():\n",
    "    sorted_students = []\n",
    "    for name, grades in students.items():\n",
    "        avg = average_grade(grades)\n",
    "        sorted_students.append((name, avg))\n",
    "    sorted_students.sort(key=lambda x: x[1], reverse=True)\n",
    "    return sorted_students\n",
    "\n",
    "while True:\n",
    "    print(\"\\n1. Average Grade for Each Student\")\n",
    "    print(\"2. Find Highest and Lowest Grades in a Subject\")\n",
    "    print(\"3. Sort Students by Average Grade\")\n",
    "    print(\"4. Exit\")\n",
    "    \n",
    "    choice = input(\"Choose an option (1-4): \")\n",
    "\n",
    "    if choice == \"1\":\n",
    "        for name, grades in students.items():\n",
    "            avg = average_grade(grades)\n",
    "            print(f\"{name}: Average Grade = {avg:.2f}\")\n",
    "    elif choice == \"2\":\n",
    "        subject = input(\"Enter subject (math, science, english): \")\n",
    "        if subject in next(iter(students.values())):\n",
    "            highest, lowest = subject_grades(subject)\n",
    "            print(f\"Highest grade in {subject}: {highest[0]} with {highest[1]}\")\n",
    "            print(f\"Lowest grade in {subject}: {lowest[0]} with {lowest[1]}\")\n",
    "        else:\n",
    "            print(\"Invalid subject.\")\n",
    "    elif choice == \"3\":\n",
    "        sorted_students = sorted_by_average()\n",
    "        print(\"Students sorted by average grade:\")\n",
    "        for name, avg in sorted_students:\n",
    "            print(f\"{name}: Average Grade = {avg:.2f}\")\n",
    "    elif choice == \"4\":\n",
    "        break\n",
    "    else:\n",
    "        print(\"Invalid choice, try again.\")            "
   ]
  },
  {
   "cell_type": "code",
   "execution_count": 1,
   "id": "f70bd4ba-9532-4699-ad16-78895c784a17",
   "metadata": {},
   "outputs": [
    {
     "ename": "KeyboardInterrupt",
     "evalue": "Interrupted by user",
     "output_type": "error",
     "traceback": [
      "\u001b[1;31m---------------------------------------------------------------------------\u001b[0m",
      "\u001b[1;31mKeyboardInterrupt\u001b[0m                         Traceback (most recent call last)",
      "Cell \u001b[1;32mIn[1], line 19\u001b[0m\n\u001b[0;32m     16\u001b[0m     \u001b[38;5;28;01mreturn\u001b[39;00m t \u001b[38;5;241m*\u001b[39m \u001b[38;5;241m0.9\u001b[39m \u001b[38;5;241m*\u001b[39m \u001b[38;5;241m1.08\u001b[39m \n\u001b[0;32m     18\u001b[0m \u001b[38;5;28;01mwhile\u001b[39;00m \u001b[38;5;28;01mTrue\u001b[39;00m:\n\u001b[1;32m---> 19\u001b[0m     choice \u001b[38;5;241m=\u001b[39m \u001b[38;5;28minput\u001b[39m(\u001b[38;5;124m\"\u001b[39m\u001b[38;5;130;01m\\n\u001b[39;00m\u001b[38;5;124m1.Add 2.Remove 3.Checkout 4.Exit: \u001b[39m\u001b[38;5;124m\"\u001b[39m)\n\u001b[0;32m     20\u001b[0m     \u001b[38;5;28;01mif\u001b[39;00m choice \u001b[38;5;241m==\u001b[39m \u001b[38;5;124m\"\u001b[39m\u001b[38;5;124m1\u001b[39m\u001b[38;5;124m\"\u001b[39m: add_to_cart(\u001b[38;5;28minput\u001b[39m(\u001b[38;5;124m\"\u001b[39m\u001b[38;5;124mProduct: \u001b[39m\u001b[38;5;124m\"\u001b[39m), \u001b[38;5;28mint\u001b[39m(\u001b[38;5;28minput\u001b[39m(\u001b[38;5;124m\"\u001b[39m\u001b[38;5;124mQuantity: \u001b[39m\u001b[38;5;124m\"\u001b[39m)))\n\u001b[0;32m     21\u001b[0m     \u001b[38;5;28;01melif\u001b[39;00m choice \u001b[38;5;241m==\u001b[39m \u001b[38;5;124m\"\u001b[39m\u001b[38;5;124m2\u001b[39m\u001b[38;5;124m\"\u001b[39m: remove_from_cart(\u001b[38;5;28minput\u001b[39m(\u001b[38;5;124m\"\u001b[39m\u001b[38;5;124mProduct: \u001b[39m\u001b[38;5;124m\"\u001b[39m), \u001b[38;5;28mint\u001b[39m(\u001b[38;5;28minput\u001b[39m(\u001b[38;5;124m\"\u001b[39m\u001b[38;5;124mQuantity: \u001b[39m\u001b[38;5;124m\"\u001b[39m)))\n",
      "File \u001b[1;32m~\\anaconda3\\Lib\\site-packages\\ipykernel\\kernelbase.py:1262\u001b[0m, in \u001b[0;36mKernel.raw_input\u001b[1;34m(self, prompt)\u001b[0m\n\u001b[0;32m   1260\u001b[0m     msg \u001b[38;5;241m=\u001b[39m \u001b[38;5;124m\"\u001b[39m\u001b[38;5;124mraw_input was called, but this frontend does not support input requests.\u001b[39m\u001b[38;5;124m\"\u001b[39m\n\u001b[0;32m   1261\u001b[0m     \u001b[38;5;28;01mraise\u001b[39;00m StdinNotImplementedError(msg)\n\u001b[1;32m-> 1262\u001b[0m \u001b[38;5;28;01mreturn\u001b[39;00m \u001b[38;5;28mself\u001b[39m\u001b[38;5;241m.\u001b[39m_input_request(\n\u001b[0;32m   1263\u001b[0m     \u001b[38;5;28mstr\u001b[39m(prompt),\n\u001b[0;32m   1264\u001b[0m     \u001b[38;5;28mself\u001b[39m\u001b[38;5;241m.\u001b[39m_parent_ident[\u001b[38;5;124m\"\u001b[39m\u001b[38;5;124mshell\u001b[39m\u001b[38;5;124m\"\u001b[39m],\n\u001b[0;32m   1265\u001b[0m     \u001b[38;5;28mself\u001b[39m\u001b[38;5;241m.\u001b[39mget_parent(\u001b[38;5;124m\"\u001b[39m\u001b[38;5;124mshell\u001b[39m\u001b[38;5;124m\"\u001b[39m),\n\u001b[0;32m   1266\u001b[0m     password\u001b[38;5;241m=\u001b[39m\u001b[38;5;28;01mFalse\u001b[39;00m,\n\u001b[0;32m   1267\u001b[0m )\n",
      "File \u001b[1;32m~\\anaconda3\\Lib\\site-packages\\ipykernel\\kernelbase.py:1305\u001b[0m, in \u001b[0;36mKernel._input_request\u001b[1;34m(self, prompt, ident, parent, password)\u001b[0m\n\u001b[0;32m   1302\u001b[0m \u001b[38;5;28;01mexcept\u001b[39;00m \u001b[38;5;167;01mKeyboardInterrupt\u001b[39;00m:\n\u001b[0;32m   1303\u001b[0m     \u001b[38;5;66;03m# re-raise KeyboardInterrupt, to truncate traceback\u001b[39;00m\n\u001b[0;32m   1304\u001b[0m     msg \u001b[38;5;241m=\u001b[39m \u001b[38;5;124m\"\u001b[39m\u001b[38;5;124mInterrupted by user\u001b[39m\u001b[38;5;124m\"\u001b[39m\n\u001b[1;32m-> 1305\u001b[0m     \u001b[38;5;28;01mraise\u001b[39;00m \u001b[38;5;167;01mKeyboardInterrupt\u001b[39;00m(msg) \u001b[38;5;28;01mfrom\u001b[39;00m \u001b[38;5;28;01mNone\u001b[39;00m\n\u001b[0;32m   1306\u001b[0m \u001b[38;5;28;01mexcept\u001b[39;00m \u001b[38;5;167;01mException\u001b[39;00m:\n\u001b[0;32m   1307\u001b[0m     \u001b[38;5;28mself\u001b[39m\u001b[38;5;241m.\u001b[39mlog\u001b[38;5;241m.\u001b[39mwarning(\u001b[38;5;124m\"\u001b[39m\u001b[38;5;124mInvalid Message:\u001b[39m\u001b[38;5;124m\"\u001b[39m, exc_info\u001b[38;5;241m=\u001b[39m\u001b[38;5;28;01mTrue\u001b[39;00m)\n",
      "\u001b[1;31mKeyboardInterrupt\u001b[0m: Interrupted by user"
     ]
    }
   ],
   "source": [
    "#part h \n",
    "\n",
    "products = {\"apple\": [44, 50], \"banana\": [0.80, 30], \"orange\": [1.50, 20]}\n",
    "cart = {}\n",
    "\n",
    "def add_to_cart(p, q):\n",
    "    if p in products and products[p][1] >= q: cart[p] = cart.get(p, 0) + q; products[p][1] -= q\n",
    "    else: print(\"Not enough stock.\")\n",
    "\n",
    "def remove_from_cart(p, q):\n",
    "    if p in cart and cart[p] >= q: cart[p] -= q; products[p][1] += q; (cart.pop(p) if cart[p] == 0 else None)\n",
    "    else: print(\"Invalid or insufficient quantity.\")\n",
    "\n",
    "def total_cost():\n",
    "    t = sum(products[p][0] * q for p, q in cart.items())\n",
    "    return t * 0.9 * 1.08 \n",
    "\n",
    "while True:\n",
    "    choice = input(\"\\n1.Add 2.Remove 3.Checkout 4.Exit: \")\n",
    "    if choice == \"1\": add_to_cart(input(\"Product: \"), int(input(\"Quantity: \")))\n",
    "    elif choice == \"2\": remove_from_cart(input(\"Product: \"), int(input(\"Quantity: \")))\n",
    "    elif choice == \"3\": print(f\"Total: ${total_cost():.2f}\"); break\n",
    "    elif choice == \"4\": break\n",
    "\n",
    "    "
   ]
  },
  {
   "cell_type": "code",
   "execution_count": null,
   "id": "683ac153-9ec4-4c6d-b830-ff5dceca3dba",
   "metadata": {},
   "outputs": [],
   "source": []
  }
 ],
 "metadata": {
  "kernelspec": {
   "display_name": "Python 3 (ipykernel)",
   "language": "python",
   "name": "python3"
  },
  "language_info": {
   "codemirror_mode": {
    "name": "ipython",
    "version": 3
   },
   "file_extension": ".py",
   "mimetype": "text/x-python",
   "name": "python",
   "nbconvert_exporter": "python",
   "pygments_lexer": "ipython3",
   "version": "3.12.4"
  }
 },
 "nbformat": 4,
 "nbformat_minor": 5
}
